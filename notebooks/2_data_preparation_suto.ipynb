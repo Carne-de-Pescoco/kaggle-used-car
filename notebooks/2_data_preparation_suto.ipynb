{
 "cells": [
  {
   "cell_type": "markdown",
   "metadata": {},
   "source": [
    "# 2_data_preparation_suto"
   ]
  },
  {
   "cell_type": "code",
   "execution_count": 1,
   "metadata": {
    "ExecuteTime": {
     "end_time": "2020-10-03T00:24:21.920832Z",
     "start_time": "2020-10-03T00:24:18.943938Z"
    }
   },
   "outputs": [],
   "source": [
    "import os\n",
    "\n",
    "import pandas as pd\n",
    "import numpy as np\n",
    "\n",
    "import matplotlib.pyplot as plt\n",
    "import seaborn as sns\n",
    "import plotly.express as px\n",
    "\n",
    "from sklearn.linear_model import LinearRegression\n",
    "\n",
    "from sklearn.model_selection import (cross_val_score, RepeatedStratifiedKFold,\n",
    "                                     RandomizedSearchCV, GridSearchCV, train_test_split)\n",
    "\n",
    "from sklearn.metrics import mean_absolute_error, mean_squared_error\n",
    "\n",
    "path_data = \"../data/raw/\"\n",
    "path_interim_data = \"../data/interim/\"\n",
    "\n",
    "# Parâmetros estéticos dos gráficos:\n",
    "set_palette = \"Paired\"\n",
    "axes_style = \"ticks\"\n",
    "\n",
    "linha = 50*\"-\""
   ]
  },
  {
   "cell_type": "code",
   "execution_count": 2,
   "metadata": {
    "ExecuteTime": {
     "end_time": "2020-10-03T00:24:22.287844Z",
     "start_time": "2020-10-03T00:24:21.923845Z"
    }
   },
   "outputs": [
    {
     "name": "stdout",
     "output_type": "stream",
     "text": [
      "Dimensões do dataset: (397, 10)\n"
     ]
    },
    {
     "data": {
      "text/html": [
       "<div>\n",
       "<style scoped>\n",
       "    .dataframe tbody tr th:only-of-type {\n",
       "        vertical-align: middle;\n",
       "    }\n",
       "\n",
       "    .dataframe tbody tr th {\n",
       "        vertical-align: top;\n",
       "    }\n",
       "\n",
       "    .dataframe thead th {\n",
       "        text-align: right;\n",
       "    }\n",
       "</style>\n",
       "<table border=\"1\" class=\"dataframe\">\n",
       "  <thead>\n",
       "    <tr style=\"text-align: right;\">\n",
       "      <th></th>\n",
       "      <th>car name</th>\n",
       "      <th>car brand</th>\n",
       "      <th>model year</th>\n",
       "      <th>cylinders</th>\n",
       "      <th>displacement</th>\n",
       "      <th>horsepower</th>\n",
       "      <th>weight</th>\n",
       "      <th>acceleration</th>\n",
       "      <th>origin</th>\n",
       "      <th>mpg</th>\n",
       "    </tr>\n",
       "  </thead>\n",
       "  <tbody>\n",
       "    <tr>\n",
       "      <th>0</th>\n",
       "      <td>amc ambassador brougham</td>\n",
       "      <td>amc</td>\n",
       "      <td>73</td>\n",
       "      <td>8</td>\n",
       "      <td>360.0</td>\n",
       "      <td>175.0</td>\n",
       "      <td>3821.0</td>\n",
       "      <td>11.0</td>\n",
       "      <td>1.0</td>\n",
       "      <td>13.0</td>\n",
       "    </tr>\n",
       "    <tr>\n",
       "      <th>1</th>\n",
       "      <td>amc ambassador dpl</td>\n",
       "      <td>amc</td>\n",
       "      <td>70</td>\n",
       "      <td>8</td>\n",
       "      <td>390.0</td>\n",
       "      <td>190.0</td>\n",
       "      <td>3850.0</td>\n",
       "      <td>8.5</td>\n",
       "      <td>1.0</td>\n",
       "      <td>15.0</td>\n",
       "    </tr>\n",
       "    <tr>\n",
       "      <th>2</th>\n",
       "      <td>amc ambassador sst</td>\n",
       "      <td>amc</td>\n",
       "      <td>72</td>\n",
       "      <td>8</td>\n",
       "      <td>304.0</td>\n",
       "      <td>150.0</td>\n",
       "      <td>3672.0</td>\n",
       "      <td>11.5</td>\n",
       "      <td>1.0</td>\n",
       "      <td>17.0</td>\n",
       "    </tr>\n",
       "    <tr>\n",
       "      <th>3</th>\n",
       "      <td>amc concord</td>\n",
       "      <td>amc</td>\n",
       "      <td>78</td>\n",
       "      <td>6</td>\n",
       "      <td>232.0</td>\n",
       "      <td>90.0</td>\n",
       "      <td>3210.0</td>\n",
       "      <td>17.2</td>\n",
       "      <td>1.0</td>\n",
       "      <td>19.4</td>\n",
       "    </tr>\n",
       "    <tr>\n",
       "      <th>4</th>\n",
       "      <td>amc concord</td>\n",
       "      <td>amc</td>\n",
       "      <td>80</td>\n",
       "      <td>4</td>\n",
       "      <td>151.0</td>\n",
       "      <td>90.0</td>\n",
       "      <td>3003.0</td>\n",
       "      <td>20.1</td>\n",
       "      <td>1.0</td>\n",
       "      <td>24.3</td>\n",
       "    </tr>\n",
       "  </tbody>\n",
       "</table>\n",
       "</div>"
      ],
      "text/plain": [
       "                  car name car brand  model year  cylinders  displacement  \\\n",
       "0  amc ambassador brougham       amc          73          8         360.0   \n",
       "1       amc ambassador dpl       amc          70          8         390.0   \n",
       "2       amc ambassador sst       amc          72          8         304.0   \n",
       "3              amc concord       amc          78          6         232.0   \n",
       "4              amc concord       amc          80          4         151.0   \n",
       "\n",
       "   horsepower  weight  acceleration  origin   mpg  \n",
       "0       175.0  3821.0          11.0     1.0  13.0  \n",
       "1       190.0  3850.0           8.5     1.0  15.0  \n",
       "2       150.0  3672.0          11.5     1.0  17.0  \n",
       "3        90.0  3210.0          17.2     1.0  19.4  \n",
       "4        90.0  3003.0          20.1     1.0  24.3  "
      ]
     },
     "execution_count": 2,
     "metadata": {},
     "output_type": "execute_result"
    }
   ],
   "source": [
    "df_data = pd.read_parquet(path_interim_data+\"df_data_step_1_output.pqt\")\n",
    "\n",
    "print(f\"Dimensões do dataset: {df_data.shape}\")\n",
    "\n",
    "df_data.head()"
   ]
  },
  {
   "cell_type": "code",
   "execution_count": 3,
   "metadata": {
    "ExecuteTime": {
     "end_time": "2020-10-03T00:24:22.318849Z",
     "start_time": "2020-10-03T00:24:22.291844Z"
    }
   },
   "outputs": [
    {
     "name": "stdout",
     "output_type": "stream",
     "text": [
      "<class 'pandas.core.frame.DataFrame'>\n",
      "RangeIndex: 397 entries, 0 to 396\n",
      "Data columns (total 10 columns):\n",
      " #   Column        Non-Null Count  Dtype  \n",
      "---  ------        --------------  -----  \n",
      " 0   car name      397 non-null    object \n",
      " 1   car brand     397 non-null    object \n",
      " 2   model year    397 non-null    int64  \n",
      " 3   cylinders     397 non-null    int64  \n",
      " 4   displacement  397 non-null    float64\n",
      " 5   horsepower    397 non-null    float64\n",
      " 6   weight        397 non-null    float64\n",
      " 7   acceleration  397 non-null    float64\n",
      " 8   origin        397 non-null    float64\n",
      " 9   mpg           397 non-null    float64\n",
      "dtypes: float64(6), int64(2), object(2)\n",
      "memory usage: 31.1+ KB\n"
     ]
    }
   ],
   "source": [
    "df_data.info()"
   ]
  },
  {
   "cell_type": "code",
   "execution_count": 7,
   "metadata": {
    "ExecuteTime": {
     "end_time": "2020-10-03T00:27:29.204580Z",
     "start_time": "2020-10-03T00:27:29.186579Z"
    }
   },
   "outputs": [],
   "source": [
    "ls_continuous_features = df_data.select_dtypes(include=[float]).columns\n",
    "ls_continuous_features\n",
    "\n",
    "df_data_step_2_output = df_data.copy()\n",
    "df_data_step_2_output = df_data_step_2_output[ls_continuous_features]"
   ]
  },
  {
   "cell_type": "code",
   "execution_count": 8,
   "metadata": {
    "ExecuteTime": {
     "end_time": "2020-10-03T00:27:38.623968Z",
     "start_time": "2020-10-03T00:27:38.585711Z"
    }
   },
   "outputs": [],
   "source": [
    "df_data_step_2_output.to_parquet(path_interim_data+\"df_data_step_2_output.pqt\")"
   ]
  }
 ],
 "metadata": {
  "hide_input": false,
  "kernelspec": {
   "display_name": "Python 3",
   "language": "python",
   "name": "python3"
  },
  "language_info": {
   "codemirror_mode": {
    "name": "ipython",
    "version": 3
   },
   "file_extension": ".py",
   "mimetype": "text/x-python",
   "name": "python",
   "nbconvert_exporter": "python",
   "pygments_lexer": "ipython3",
   "version": "3.8.3"
  },
  "toc": {
   "base_numbering": 1,
   "nav_menu": {},
   "number_sections": true,
   "sideBar": true,
   "skip_h1_title": false,
   "title_cell": "Table of Contents",
   "title_sidebar": "Contents",
   "toc_cell": false,
   "toc_position": {},
   "toc_section_display": true,
   "toc_window_display": false
  }
 },
 "nbformat": 4,
 "nbformat_minor": 4
}
