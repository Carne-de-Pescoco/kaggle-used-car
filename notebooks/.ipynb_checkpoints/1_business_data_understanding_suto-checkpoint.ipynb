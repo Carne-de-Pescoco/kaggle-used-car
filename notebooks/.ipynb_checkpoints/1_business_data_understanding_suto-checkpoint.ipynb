{
 "cells": [
  {
   "cell_type": "markdown",
   "metadata": {},
   "source": [
    "# 1_business_data_understanding_suto"
   ]
  },
  {
   "cell_type": "code",
   "execution_count": 2,
   "metadata": {
    "ExecuteTime": {
     "end_time": "2020-10-03T00:21:28.039083Z",
     "start_time": "2020-10-03T00:21:28.024097Z"
    }
   },
   "outputs": [],
   "source": [
    "import os\n",
    "\n",
    "import pandas as pd\n",
    "import numpy as np\n",
    "\n",
    "import matplotlib.pyplot as plt\n",
    "import seaborn as sns\n",
    "import plotly.express as px\n",
    "\n",
    "from sklearn.linear_model import LinearRegression\n",
    "\n",
    "from sklearn.model_selection import (cross_val_score, RepeatedStratifiedKFold,\n",
    "                                     RandomizedSearchCV, GridSearchCV, train_test_split)\n",
    "\n",
    "from sklearn.metrics import mean_absolute_error, mean_squared_error\n",
    "\n",
    "path_data = \"../data/raw/\"\n",
    "path_interim_data = \"../data/interim/\"\n",
    "\n",
    "# Parâmetros estéticos dos gráficos:\n",
    "set_palette = \"Paired\"\n",
    "axes_style = \"ticks\"\n",
    "\n",
    "linha = 50*\"-\""
   ]
  },
  {
   "cell_type": "code",
   "execution_count": 3,
   "metadata": {
    "ExecuteTime": {
     "end_time": "2020-10-03T00:21:28.119081Z",
     "start_time": "2020-10-03T00:21:28.043087Z"
    }
   },
   "outputs": [
    {
     "name": "stdout",
     "output_type": "stream",
     "text": [
      "Dimensões do dataset: (398, 9)\n"
     ]
    },
    {
     "data": {
      "text/html": [
       "<div>\n",
       "<style scoped>\n",
       "    .dataframe tbody tr th:only-of-type {\n",
       "        vertical-align: middle;\n",
       "    }\n",
       "\n",
       "    .dataframe tbody tr th {\n",
       "        vertical-align: top;\n",
       "    }\n",
       "\n",
       "    .dataframe thead th {\n",
       "        text-align: right;\n",
       "    }\n",
       "</style>\n",
       "<table border=\"1\" class=\"dataframe\">\n",
       "  <thead>\n",
       "    <tr style=\"text-align: right;\">\n",
       "      <th></th>\n",
       "      <th>mpg</th>\n",
       "      <th>cylinders</th>\n",
       "      <th>displacement</th>\n",
       "      <th>horsepower</th>\n",
       "      <th>weight</th>\n",
       "      <th>acceleration</th>\n",
       "      <th>model year</th>\n",
       "      <th>origin</th>\n",
       "      <th>car name</th>\n",
       "    </tr>\n",
       "  </thead>\n",
       "  <tbody>\n",
       "    <tr>\n",
       "      <th>0</th>\n",
       "      <td>18.0</td>\n",
       "      <td>8</td>\n",
       "      <td>307.0</td>\n",
       "      <td>130</td>\n",
       "      <td>3504</td>\n",
       "      <td>12.0</td>\n",
       "      <td>70</td>\n",
       "      <td>1</td>\n",
       "      <td>chevrolet chevelle malibu</td>\n",
       "    </tr>\n",
       "    <tr>\n",
       "      <th>1</th>\n",
       "      <td>15.0</td>\n",
       "      <td>8</td>\n",
       "      <td>350.0</td>\n",
       "      <td>165</td>\n",
       "      <td>3693</td>\n",
       "      <td>11.5</td>\n",
       "      <td>70</td>\n",
       "      <td>1</td>\n",
       "      <td>buick skylark 320</td>\n",
       "    </tr>\n",
       "    <tr>\n",
       "      <th>2</th>\n",
       "      <td>18.0</td>\n",
       "      <td>8</td>\n",
       "      <td>318.0</td>\n",
       "      <td>150</td>\n",
       "      <td>3436</td>\n",
       "      <td>11.0</td>\n",
       "      <td>70</td>\n",
       "      <td>1</td>\n",
       "      <td>plymouth satellite</td>\n",
       "    </tr>\n",
       "    <tr>\n",
       "      <th>3</th>\n",
       "      <td>16.0</td>\n",
       "      <td>8</td>\n",
       "      <td>304.0</td>\n",
       "      <td>150</td>\n",
       "      <td>3433</td>\n",
       "      <td>12.0</td>\n",
       "      <td>70</td>\n",
       "      <td>1</td>\n",
       "      <td>amc rebel sst</td>\n",
       "    </tr>\n",
       "    <tr>\n",
       "      <th>4</th>\n",
       "      <td>17.0</td>\n",
       "      <td>8</td>\n",
       "      <td>302.0</td>\n",
       "      <td>140</td>\n",
       "      <td>3449</td>\n",
       "      <td>10.5</td>\n",
       "      <td>70</td>\n",
       "      <td>1</td>\n",
       "      <td>ford torino</td>\n",
       "    </tr>\n",
       "  </tbody>\n",
       "</table>\n",
       "</div>"
      ],
      "text/plain": [
       "    mpg  cylinders  displacement horsepower  weight  acceleration  model year  \\\n",
       "0  18.0          8         307.0        130    3504          12.0          70   \n",
       "1  15.0          8         350.0        165    3693          11.5          70   \n",
       "2  18.0          8         318.0        150    3436          11.0          70   \n",
       "3  16.0          8         304.0        150    3433          12.0          70   \n",
       "4  17.0          8         302.0        140    3449          10.5          70   \n",
       "\n",
       "   origin                   car name  \n",
       "0       1  chevrolet chevelle malibu  \n",
       "1       1          buick skylark 320  \n",
       "2       1         plymouth satellite  \n",
       "3       1              amc rebel sst  \n",
       "4       1                ford torino  "
      ]
     },
     "execution_count": 3,
     "metadata": {},
     "output_type": "execute_result"
    }
   ],
   "source": [
    "df_data = pd.read_csv(path_data+\"auto-mpg.csv\")\n",
    "\n",
    "print(f\"Dimensões do dataset: {df_data.shape}\")\n",
    "\n",
    "df_data.head()"
   ]
  },
  {
   "cell_type": "markdown",
   "metadata": {},
   "source": [
    "## Entendendo cada fator\n",
    "\n",
    "Vamos pegar cada fator e simplesmente plotar para verificar se \"faz sentido\".\n",
    "\n",
    "### Limpeza de dados\n",
    "\n",
    "Quando fomos verificar a \"natureza\"/tipo de cada fator, vimos que o o fator **horsepower** estava como *object*. Analisando um pouco melhor, vimos que havia a string *\"?\"* em 6 registros/observações. Para facilitar, seguiremos com a substituição das strings *\"?\"* pela média da amostra que temos. Posteriormente, usaremos técnicas melhores, como por exemplo **K-vizinhos mais próximos**."
   ]
  },
  {
   "cell_type": "code",
   "execution_count": 4,
   "metadata": {
    "ExecuteTime": {
     "end_time": "2020-10-03T00:21:28.167089Z",
     "start_time": "2020-10-03T00:21:28.124083Z"
    }
   },
   "outputs": [
    {
     "data": {
      "text/html": [
       "<div>\n",
       "<style scoped>\n",
       "    .dataframe tbody tr th:only-of-type {\n",
       "        vertical-align: middle;\n",
       "    }\n",
       "\n",
       "    .dataframe tbody tr th {\n",
       "        vertical-align: top;\n",
       "    }\n",
       "\n",
       "    .dataframe thead th {\n",
       "        text-align: right;\n",
       "    }\n",
       "</style>\n",
       "<table border=\"1\" class=\"dataframe\">\n",
       "  <thead>\n",
       "    <tr style=\"text-align: right;\">\n",
       "      <th></th>\n",
       "      <th>mpg</th>\n",
       "      <th>cylinders</th>\n",
       "      <th>displacement</th>\n",
       "      <th>horsepower</th>\n",
       "      <th>weight</th>\n",
       "      <th>acceleration</th>\n",
       "      <th>model year</th>\n",
       "      <th>origin</th>\n",
       "      <th>car name</th>\n",
       "    </tr>\n",
       "  </thead>\n",
       "  <tbody>\n",
       "    <tr>\n",
       "      <th>32</th>\n",
       "      <td>25.0</td>\n",
       "      <td>4</td>\n",
       "      <td>98.0</td>\n",
       "      <td>?</td>\n",
       "      <td>2046</td>\n",
       "      <td>19.0</td>\n",
       "      <td>71</td>\n",
       "      <td>1</td>\n",
       "      <td>ford pinto</td>\n",
       "    </tr>\n",
       "    <tr>\n",
       "      <th>126</th>\n",
       "      <td>21.0</td>\n",
       "      <td>6</td>\n",
       "      <td>200.0</td>\n",
       "      <td>?</td>\n",
       "      <td>2875</td>\n",
       "      <td>17.0</td>\n",
       "      <td>74</td>\n",
       "      <td>1</td>\n",
       "      <td>ford maverick</td>\n",
       "    </tr>\n",
       "    <tr>\n",
       "      <th>330</th>\n",
       "      <td>40.9</td>\n",
       "      <td>4</td>\n",
       "      <td>85.0</td>\n",
       "      <td>?</td>\n",
       "      <td>1835</td>\n",
       "      <td>17.3</td>\n",
       "      <td>80</td>\n",
       "      <td>2</td>\n",
       "      <td>renault lecar deluxe</td>\n",
       "    </tr>\n",
       "    <tr>\n",
       "      <th>336</th>\n",
       "      <td>23.6</td>\n",
       "      <td>4</td>\n",
       "      <td>140.0</td>\n",
       "      <td>?</td>\n",
       "      <td>2905</td>\n",
       "      <td>14.3</td>\n",
       "      <td>80</td>\n",
       "      <td>1</td>\n",
       "      <td>ford mustang cobra</td>\n",
       "    </tr>\n",
       "    <tr>\n",
       "      <th>354</th>\n",
       "      <td>34.5</td>\n",
       "      <td>4</td>\n",
       "      <td>100.0</td>\n",
       "      <td>?</td>\n",
       "      <td>2320</td>\n",
       "      <td>15.8</td>\n",
       "      <td>81</td>\n",
       "      <td>2</td>\n",
       "      <td>renault 18i</td>\n",
       "    </tr>\n",
       "    <tr>\n",
       "      <th>374</th>\n",
       "      <td>23.0</td>\n",
       "      <td>4</td>\n",
       "      <td>151.0</td>\n",
       "      <td>?</td>\n",
       "      <td>3035</td>\n",
       "      <td>20.5</td>\n",
       "      <td>82</td>\n",
       "      <td>1</td>\n",
       "      <td>amc concord dl</td>\n",
       "    </tr>\n",
       "  </tbody>\n",
       "</table>\n",
       "</div>"
      ],
      "text/plain": [
       "      mpg  cylinders  displacement horsepower  weight  acceleration  \\\n",
       "32   25.0          4          98.0          ?    2046          19.0   \n",
       "126  21.0          6         200.0          ?    2875          17.0   \n",
       "330  40.9          4          85.0          ?    1835          17.3   \n",
       "336  23.6          4         140.0          ?    2905          14.3   \n",
       "354  34.5          4         100.0          ?    2320          15.8   \n",
       "374  23.0          4         151.0          ?    3035          20.5   \n",
       "\n",
       "     model year  origin              car name  \n",
       "32           71       1            ford pinto  \n",
       "126          74       1         ford maverick  \n",
       "330          80       2  renault lecar deluxe  \n",
       "336          80       1    ford mustang cobra  \n",
       "354          81       2           renault 18i  \n",
       "374          82       1        amc concord dl  "
      ]
     },
     "execution_count": 4,
     "metadata": {},
     "output_type": "execute_result"
    }
   ],
   "source": [
    "df_data.loc[~df_data[\"horsepower\"].str.isnumeric()]"
   ]
  },
  {
   "cell_type": "code",
   "execution_count": 5,
   "metadata": {
    "ExecuteTime": {
     "end_time": "2020-10-03T00:21:28.215081Z",
     "start_time": "2020-10-03T00:21:28.173091Z"
    }
   },
   "outputs": [
    {
     "name": "stdout",
     "output_type": "stream",
     "text": [
      "A média dos registros/observações horsepower exluindo os registros com \"?\" é 104.\n"
     ]
    }
   ],
   "source": [
    "df_data_limpo = df_data.copy()\n",
    "\n",
    "media_horsepower = df_data_limpo.loc[df_data[\"horsepower\"].str.isnumeric(), \"horsepower\"]\n",
    "media_horsepower = media_horsepower.astype(\"float64\")\n",
    "media_horsepower = int(media_horsepower.mean())\n",
    "\n",
    "print(f\"\"\"A média dos registros/observações horsepower exluindo os registros com \"?\" é {media_horsepower}.\"\"\")\n",
    "\n",
    "# Substituição dos valores \"?\" pela média:\n",
    "df_data_limpo[\"horsepower\"].replace(to_replace=\"?\", value=media_horsepower, inplace=True)\n",
    "df_data_limpo[\"horsepower\"] = df_data_limpo[\"horsepower\"].astype(\"float64\")"
   ]
  },
  {
   "cell_type": "markdown",
   "metadata": {},
   "source": [
    "### Verificando a distribuição dos fatores contínuos:\n",
    "- **Resposta:** mpg\n",
    "- **Fatores**:\n",
    " - displacement\n",
    " - horsepower\n",
    " - weight\n",
    " - acceleration"
   ]
  },
  {
   "cell_type": "code",
   "execution_count": 6,
   "metadata": {
    "ExecuteTime": {
     "end_time": "2020-10-03T00:21:28.261080Z",
     "start_time": "2020-10-03T00:21:28.220085Z"
    }
   },
   "outputs": [
    {
     "data": {
      "text/plain": [
       "['acceleration', 'displacement', 'horsepower', 'mpg']"
      ]
     },
     "execution_count": 6,
     "metadata": {},
     "output_type": "execute_result"
    }
   ],
   "source": [
    "lst_continuas = df_data_limpo.select_dtypes(include=[float, \"float32\", \"float64\"]).columns\n",
    "lst_continuas = sorted(lst_continuas)\n",
    "lst_continuas"
   ]
  },
  {
   "cell_type": "code",
   "execution_count": 7,
   "metadata": {
    "ExecuteTime": {
     "end_time": "2020-10-03T00:21:30.761081Z",
     "start_time": "2020-10-03T00:21:28.264084Z"
    }
   },
   "outputs": [
    {
     "data": {
      "image/png": "[encoded data removed]",
      "text/plain": [
       "<Figure size 360x144 with 1 Axes>"
      ]
     },
     "metadata": {
      "needs_background": "light"
     },
     "output_type": "display_data"
    },
    {
     "data": {
      "image/png": "[encoded data removed]",
      "text/plain": [
       "<Figure size 360x144 with 1 Axes>"
      ]
     },
     "metadata": {
      "needs_background": "light"
     },
     "output_type": "display_data"
    },
    {
     "data": {
      "image/png": "[encoded data removed]",
      "text/plain": [
       "<Figure size 360x144 with 1 Axes>"
      ]
     },
     "metadata": {
      "needs_background": "light"
     },
     "output_type": "display_data"
    },
    {
     "data": {
      "image/png": "[encoded data removed]",
      "text/plain": [
       "<Figure size 360x144 with 1 Axes>"
      ]
     },
     "metadata": {
      "needs_background": "light"
     },
     "output_type": "display_data"
    }
   ],
   "source": [
    "sns.set_palette(set_palette)\n",
    "sns.axes_style(axes_style)\n",
    "\n",
    "for i, feature in enumerate(df_data_limpo[lst_continuas].columns):\n",
    "#     x = pd.Series(df_data_limpo.loc[:, feature])\n",
    "    ax = sns.displot(df_data_limpo.loc[:, feature], kde=True)\n",
    "    ax.set(title=\"Distribuição de \"+feature)\n",
    "    ax.fig.set_size_inches(5,2)"
   ]
  },
  {
   "cell_type": "code",
   "execution_count": null,
   "metadata": {
    "ExecuteTime": {
     "start_time": "2020-10-03T00:21:28.067Z"
    }
   },
   "outputs": [],
   "source": [
    "# Pegando somente os atributos/fatores/variáveis de entrada contínuas.\n",
    "lst_continuas = df_data_limpo.select_dtypes(include=[\"float\", \"float32\", \"float64\"]).columns\n",
    "\n",
    "# Calculando a matriz de correlação entre os fatores, incluindo a resposta (\"mpg\").\n",
    "correlation_matrix = abs(df_data_limpo[sorted(lst_continuas)].corr())\n",
    "\n",
    "mask = np.triu(np.ones_like(correlation_matrix, dtype=np.bool))\n",
    "\n",
    "sns.set_palette(set_palette)\n",
    "sns.axes_style(axes_style)\n",
    "\n",
    "ax = sns.heatmap(correlation_matrix, vmin=0, vmax=1, mask=mask,annot=True)\n",
    "ax.set_title('Mapa de Correlação', fontdict={'fontsize':14}, pad=12);"
   ]
  },
  {
   "cell_type": "code",
   "execution_count": null,
   "metadata": {
    "ExecuteTime": {
     "start_time": "2020-10-03T00:21:28.076Z"
    }
   },
   "outputs": [],
   "source": [
    "sns.set_palette(set_palette)\n",
    "sns.axes_style(axes_style)\n",
    "\n",
    "ax = sns.pairplot(df_data_limpo[sorted(lst_continuas)], plot_kws={'alpha':0.9}, corner=True);\n",
    "\n",
    "ax.fig.set_size_inches(15,10)"
   ]
  },
  {
   "cell_type": "markdown",
   "metadata": {},
   "source": [
    "### Verificando a distribuição dos fatores discretos:\n",
    "- **Fatores**:\n",
    " - 'cylinders',\n",
    " - 'model year',\n",
    " - 'origin',\n",
    " - 'car name'"
   ]
  },
  {
   "cell_type": "code",
   "execution_count": null,
   "metadata": {
    "ExecuteTime": {
     "start_time": "2020-10-03T00:21:28.081Z"
    }
   },
   "outputs": [],
   "source": [
    "lst_categoricos = ['cylinders', 'model year', 'origin']\n",
    "\n",
    "sns.set_palette(set_palette)\n",
    "sns.axes_style(axes_style)\n",
    "\n",
    "fig, axs = plt.subplots(ncols=3, figsize=(20,5))\n",
    "\n",
    "for i, feature in enumerate(df_data_limpo[lst_categoricos].columns):\n",
    "    ax = sns.countplot(x=feature, data=df_data_limpo, ax=axs[i])\n",
    "    ax.set(ylabel=\"Contagem [un]\")"
   ]
  },
  {
   "cell_type": "markdown",
   "metadata": {},
   "source": [
    "#### Investigando a variável 'car name'"
   ]
  },
  {
   "cell_type": "code",
   "execution_count": null,
   "metadata": {
    "ExecuteTime": {
     "start_time": "2020-10-03T00:21:28.086Z"
    }
   },
   "outputs": [],
   "source": [
    "df_data_limpo[\"car name\"].value_counts()"
   ]
  },
  {
   "cell_type": "code",
   "execution_count": null,
   "metadata": {
    "ExecuteTime": {
     "start_time": "2020-10-03T00:21:28.094Z"
    }
   },
   "outputs": [],
   "source": [
    "df_repeated_cars = df_data_limpo[\"car name\"].value_counts()[df_data_limpo[\"car name\"].value_counts()>1]\n",
    "\n",
    "print(f\"\"\"Existem {len(df_repeated_cars.index)} 'car names' que se repetem.\n",
    "Essas repetições correspondem a {df_repeated_cars.sum()} registros no df_data ({round(100*df_repeated_cars.sum()/len(df_data),1)}% do total).\"\"\")\n",
    "print(linha)\n",
    "\n",
    "df_data_repetead = df_data_limpo.loc[df_data_limpo[\"car name\"].isin(set(df_repeated_cars.index)), :].copy()\n",
    "df_data_repetead.sort_values(by=[\"car name\", \"model year\"], inplace=True)\n",
    "df_data_repetead"
   ]
  },
  {
   "cell_type": "markdown",
   "metadata": {
    "ExecuteTime": {
     "end_time": "2020-09-25T00:05:57.773268Z",
     "start_time": "2020-09-25T00:05:57.458823Z"
    }
   },
   "source": [
    "Porém, quando agrupamos em  'car names' e 'model year', ocorrem somente duas repetições:\n",
    "- ford pinto de 75\n",
    "- plymouth reliant de 81"
   ]
  },
  {
   "cell_type": "code",
   "execution_count": null,
   "metadata": {
    "ExecuteTime": {
     "start_time": "2020-10-03T00:21:28.100Z"
    }
   },
   "outputs": [],
   "source": [
    "repeticoes = (df_data_limpo.groupby([\"car name\", \"model year\"]).agg({\"mpg\":\"count\"}).rename(columns={\"mpg\":\"contagem\"}).reset_index())\n",
    "repeticoes.loc[repeticoes.sort_values(by=\"contagem\", ascending=False)[\"contagem\"]>1]"
   ]
  },
  {
   "cell_type": "code",
   "execution_count": null,
   "metadata": {
    "ExecuteTime": {
     "start_time": "2020-10-03T00:21:28.108Z"
    }
   },
   "outputs": [],
   "source": [
    "df_data_limpo.loc[((df_data_limpo[\"car name\"]==\"ford pinto\") &\n",
    "                   (df_data_limpo[\"model year\"]==75))|\n",
    "                  ((df_data_limpo[\"car name\"]==\"plymouth reliant\") &\n",
    "                   (df_data_limpo[\"model year\"]==81)), :]"
   ]
  },
  {
   "cell_type": "markdown",
   "metadata": {},
   "source": [
    "A tabela acima evidencia que apesar de termos detectado que haviam muitos 'car names' repetidos, eles não representam o mesmo carro. Por mesmo carro, entendemos que será o registro que possui 'car name', 'model year' e 'cylinders' com os mesmos valores. Portanto, temos apenas uma repetição: **plymouth reliant de 81 com 4 cilindros**.\n",
    "\n",
    "Para tratar essa repetição, pegaremos as médias de cada atributo desse registro repetido."
   ]
  },
  {
   "cell_type": "code",
   "execution_count": null,
   "metadata": {
    "ExecuteTime": {
     "start_time": "2020-10-03T00:21:28.117Z"
    }
   },
   "outputs": [],
   "source": [
    "df_data_without_repetition = (df_data_limpo.groupby([\"car name\", \"model year\", \"cylinders\"])\n",
    "                              .mean().reset_index())\n",
    "\n",
    "print(f\"Dimensões do dataset: {df_data_without_repetition.shape}\")\n",
    "\n",
    "df_data_without_repetition.loc[((df_data_without_repetition[\"car name\"]==\"ford pinto\") &\n",
    "                                (df_data_without_repetition[\"model year\"]==75))|\n",
    "                               ((df_data_without_repetition[\"car name\"]==\"plymouth reliant\") &\n",
    "                                (df_data_without_repetition[\"model year\"]==81)), :]"
   ]
  },
  {
   "cell_type": "markdown",
   "metadata": {},
   "source": [
    "### Analisando o impacto (\"jeitão\") de cada variável categórica com a reposta (\"mpg\")"
   ]
  },
  {
   "cell_type": "code",
   "execution_count": null,
   "metadata": {
    "ExecuteTime": {
     "start_time": "2020-10-03T00:21:28.128Z"
    }
   },
   "outputs": [],
   "source": [
    "sns.set_palette(set_palette)\n",
    "sns.axes_style(axes_style)\n",
    "\n",
    "fig, axs = plt.subplots(ncols=3, figsize=(20,5))\n",
    "\n",
    "for i, feature in enumerate(df_data_without_repetition[lst_categoricos].columns):\n",
    "    sns.boxplot(x=feature, y=\"mpg\", data=df_data_without_repetition, ax=axs[i])"
   ]
  },
  {
   "cell_type": "markdown",
   "metadata": {},
   "source": [
    "### Criando um novo fator/variável de entrada\n",
    "\n",
    "O fator 'car name' possui a marca do carro. Será que essa seria uma variável importante?"
   ]
  },
  {
   "cell_type": "code",
   "execution_count": null,
   "metadata": {
    "ExecuteTime": {
     "start_time": "2020-10-03T00:21:28.132Z"
    }
   },
   "outputs": [],
   "source": [
    "def get_car_brand(string):\n",
    "    \"\"\"\n",
    "    Essa função, extrai a marca do carro. Ela extrai os caracteres anteriores ao primeiro espaço.\n",
    "    Inputs: string\n",
    "    Output: slice de string\n",
    "    \"\"\"\n",
    "    index = string.find(\" \")\n",
    "    return string[:index]"
   ]
  },
  {
   "cell_type": "code",
   "execution_count": null,
   "metadata": {
    "ExecuteTime": {
     "start_time": "2020-10-03T00:21:28.139Z"
    }
   },
   "outputs": [],
   "source": [
    "df_data_without_repetition[\"car brand\"] = df_data_without_repetition[\"car name\"].apply(get_car_brand)\n",
    "\n",
    "# Arrumando a ordem dos fatores e reposta:\n",
    "df_data_without_repetition = df_data_without_repetition[['car name', 'car brand', 'model year', 'cylinders', 'displacement',\n",
    "                                                         'horsepower', 'weight', 'acceleration', 'origin', 'mpg']]\n",
    "\n",
    "df_data_without_repetition.head()"
   ]
  },
  {
   "cell_type": "code",
   "execution_count": null,
   "metadata": {
    "ExecuteTime": {
     "start_time": "2020-10-03T00:21:28.145Z"
    }
   },
   "outputs": [],
   "source": [
    "brand_mpg_order = (df_data_without_repetition.groupby(\"car brand\").agg({\"mpg\": \"median\"}).rename(columns={\"mpg\": \"mediana de mpg\"}).reset_index())\n",
    "brand_mpg_order.sort_values(by=\"mediana de mpg\", inplace=True)\n",
    "\n",
    "plt.figure(figsize=(10,10))\n",
    "ax = sns.boxplot(y=\"car brand\", x=\"mpg\", data=df_data_without_repetition, order=brand_mpg_order[\"car brand\"])"
   ]
  },
  {
   "cell_type": "markdown",
   "metadata": {},
   "source": [
    "O gráfico acima evidenciou \"*typos*\" nas marcas. Por exemplo:\n",
    "- **chevrolet** aparece também como **chevroelt**\n",
    "- **mazda** aparece também como **maxda**\n",
    "- **mercedes-benz** aparece também como **mercedes**\n",
    "- **subaru** aparece também como **subar**\n",
    "- **toyota** aparece também como **toyouta**\n",
    "- **volkswagen** aparece também como **vokswagen** e **vw**\n",
    "\n",
    "Como são poucas substituições, faremos manualmente. No entanto uma estratégia usando Regex seja uma alternativa melhor quando lidamos com uma quantidade de dados maior."
   ]
  },
  {
   "cell_type": "code",
   "execution_count": null,
   "metadata": {
    "ExecuteTime": {
     "start_time": "2020-10-03T00:21:28.156Z"
    }
   },
   "outputs": [],
   "source": [
    "df_data_without_repetition.replace({\"chevroelt\":\"chevrolet\", \"maxda\":\"mazda\", \"mercedes-benz\":\"mercedes\",\n",
    "                                    \"subar\":\"subaru\", \"toyouta\":\"toyota\", \"vokswagen\":\"volkswagen\", \"vw\":\"volkswagen\"}, inplace=True)\n",
    "\n",
    "df_data_without_repetition.loc[df_data_without_repetition[\"car brand\"].str.contains(\"toy\")].head(3)"
   ]
  },
  {
   "cell_type": "markdown",
   "metadata": {},
   "source": [
    "Refazendo o boxplot das marcas por mpg:"
   ]
  },
  {
   "cell_type": "code",
   "execution_count": null,
   "metadata": {
    "ExecuteTime": {
     "start_time": "2020-10-03T00:21:28.176Z"
    }
   },
   "outputs": [],
   "source": [
    "brand_mpg_order = (df_data_without_repetition.groupby(\"car brand\").agg({\"mpg\": \"median\"}).rename(columns={\"mpg\": \"mediana de mpg\"}).reset_index())\n",
    "brand_mpg_order.sort_values(by=\"mediana de mpg\", inplace=True)\n",
    "\n",
    "plt.figure(figsize=(10,10))\n",
    "ax = sns.boxplot(y=\"car brand\", x=\"mpg\", data=df_data_without_repetition, order=brand_mpg_order[\"car brand\"])"
   ]
  },
  {
   "cell_type": "code",
   "execution_count": null,
   "metadata": {
    "ExecuteTime": {
     "start_time": "2020-10-03T00:21:28.189Z"
    }
   },
   "outputs": [],
   "source": [
    "print(f\"\"\"Por fim, ficamos com um dataset com:\n",
    " - {df_data_without_repetition.shape[0]} registros; e\n",
    " - {df_data_without_repetition.shape[1]-1} atributos.\n",
    " \n",
    " Ou seja, reduzimos um registro e aumentamos um atributo em relação ao original.\"\"\")\n",
    "\n",
    "df_data_without_repetition.head()"
   ]
  },
  {
   "cell_type": "markdown",
   "metadata": {},
   "source": [
    "#### Extraindo a base para a próxima etapa"
   ]
  },
  {
   "cell_type": "code",
   "execution_count": null,
   "metadata": {
    "ExecuteTime": {
     "start_time": "2020-10-03T00:21:28.197Z"
    }
   },
   "outputs": [],
   "source": [
    "df_data_without_repetition.to_parquet(path_interim_data+\"df_data_step_1_output.pqt\")"
   ]
  },
  {
   "cell_type": "markdown",
   "metadata": {},
   "source": [
    "## Próximo passo:\n",
    "\n",
    "- Em [2_data_preparation_suto.ipynb](./2_data_preparation_suto.ipynb):\n",
    " - transformaremos os dados categóricos em numéricos para serem consumidos pelo modelo."
   ]
  }
 ],
 "metadata": {
  "hide_input": false,
  "kernelspec": {
   "display_name": "Python 3",
   "language": "python",
   "name": "python3"
  },
  "language_info": {
   "codemirror_mode": {
    "name": "ipython",
    "version": 3
   },
   "file_extension": ".py",
   "mimetype": "text/x-python",
   "name": "python",
   "nbconvert_exporter": "python",
   "pygments_lexer": "ipython3",
   "version": "3.8.3"
  },
  "toc": {
   "base_numbering": 1,
   "nav_menu": {},
   "number_sections": true,
   "sideBar": true,
   "skip_h1_title": false,
   "title_cell": "Table of Contents",
   "title_sidebar": "Contents",
   "toc_cell": false,
   "toc_position": {},
   "toc_section_display": true,
   "toc_window_display": false
  }
 },
 "nbformat": 4,
 "nbformat_minor": 4
}
