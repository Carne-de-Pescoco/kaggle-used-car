{
 "cells": [
  {
   "cell_type": "markdown",
   "metadata": {},
   "source": [
    "# 3_modeling_evaluation_suto"
   ]
  },
  {
   "cell_type": "code",
   "execution_count": 1,
   "metadata": {
    "ExecuteTime": {
     "end_time": "2020-12-07T01:28:43.156240Z",
     "start_time": "2020-12-07T01:28:43.114077Z"
    }
   },
   "outputs": [],
   "source": [
    "import os\n",
    "\n",
    "from feature_engine.encoding import RareLabelEncoder, CountFrequencyEncoder\n",
    "import matplotlib.pyplot as plt\n",
    "import numpy as np\n",
    "import pandas as pd\n",
    "from pycaret.regression import * \n",
    "import seaborn as sns\n",
    "from sklearn.linear_model import LinearRegression, ElasticNet, Ridge\n",
    "from sklearn.metrics import r2_score, mean_squared_error, mean_absolute_error\n",
    "from sklearn.model_selection import (\n",
    "    cross_val_score, cross_validate, RepeatedStratifiedKFold, RandomizedSearchCV, GridSearchCV, train_test_split)\n",
    "from sklearn.pipeline import Pipeline\n",
    "from sklearn.preprocessing import PolynomialFeatures\n",
    "from sklearn.utils.validation import check_is_fitted\n",
    "\n",
    "os.chdir('../')\n",
    "import src.config as config\n",
    "from src.preprocessing import non_numeric_to_nan, get_car_brand\n",
    "from src.preprocessing import KNNImputerDataframe\n",
    "from src.pipeline import pipe_categorical\n",
    "os.chdir('./notebooks')\n",
    "\n",
    "path_data = \"../data/raw/\"\n",
    "path_interim_data = \"../data/interim/\"\n",
    "\n",
    "# Parâmetros estéticos dos gráficos:\n",
    "set_palette = \"Paired\"\n",
    "axes_style = \"ticks\"\n",
    "\n",
    "linha = 50*\"-\""
   ]
  },
  {
   "source": [
    "# Carregamento de dados\n",
    "\n",
    "Usando o pipeline obtido na etapa anterior."
   ],
   "cell_type": "markdown",
   "metadata": {}
  },
  {
   "cell_type": "code",
   "execution_count": 2,
   "metadata": {},
   "outputs": [
    {
     "output_type": "execute_result",
     "data": {
      "text/plain": [
       "    mpg  cylinders  displacement horsepower  weight  acceleration  model year  \\\n",
       "0  18.0          8         307.0        130    3504          12.0          70   \n",
       "1  15.0          8         350.0        165    3693          11.5          70   \n",
       "2  18.0          8         318.0        150    3436          11.0          70   \n",
       "3  16.0          8         304.0        150    3433          12.0          70   \n",
       "4  17.0          8         302.0        140    3449          10.5          70   \n",
       "\n",
       "   origin                   car name  \n",
       "0       1  chevrolet chevelle malibu  \n",
       "1       1          buick skylark 320  \n",
       "2       1         plymouth satellite  \n",
       "3       1              amc rebel sst  \n",
       "4       1                ford torino  "
      ],
      "text/html": "<div>\n<style scoped>\n    .dataframe tbody tr th:only-of-type {\n        vertical-align: middle;\n    }\n\n    .dataframe tbody tr th {\n        vertical-align: top;\n    }\n\n    .dataframe thead th {\n        text-align: right;\n    }\n</style>\n<table border=\"1\" class=\"dataframe\">\n  <thead>\n    <tr style=\"text-align: right;\">\n      <th></th>\n      <th>mpg</th>\n      <th>cylinders</th>\n      <th>displacement</th>\n      <th>horsepower</th>\n      <th>weight</th>\n      <th>acceleration</th>\n      <th>model year</th>\n      <th>origin</th>\n      <th>car name</th>\n    </tr>\n  </thead>\n  <tbody>\n    <tr>\n      <th>0</th>\n      <td>18.0</td>\n      <td>8</td>\n      <td>307.0</td>\n      <td>130</td>\n      <td>3504</td>\n      <td>12.0</td>\n      <td>70</td>\n      <td>1</td>\n      <td>chevrolet chevelle malibu</td>\n    </tr>\n    <tr>\n      <th>1</th>\n      <td>15.0</td>\n      <td>8</td>\n      <td>350.0</td>\n      <td>165</td>\n      <td>3693</td>\n      <td>11.5</td>\n      <td>70</td>\n      <td>1</td>\n      <td>buick skylark 320</td>\n    </tr>\n    <tr>\n      <th>2</th>\n      <td>18.0</td>\n      <td>8</td>\n      <td>318.0</td>\n      <td>150</td>\n      <td>3436</td>\n      <td>11.0</td>\n      <td>70</td>\n      <td>1</td>\n      <td>plymouth satellite</td>\n    </tr>\n    <tr>\n      <th>3</th>\n      <td>16.0</td>\n      <td>8</td>\n      <td>304.0</td>\n      <td>150</td>\n      <td>3433</td>\n      <td>12.0</td>\n      <td>70</td>\n      <td>1</td>\n      <td>amc rebel sst</td>\n    </tr>\n    <tr>\n      <th>4</th>\n      <td>17.0</td>\n      <td>8</td>\n      <td>302.0</td>\n      <td>140</td>\n      <td>3449</td>\n      <td>10.5</td>\n      <td>70</td>\n      <td>1</td>\n      <td>ford torino</td>\n    </tr>\n  </tbody>\n</table>\n</div>"
     },
     "metadata": {},
     "execution_count": 2
    }
   ],
   "source": [
    "lst_numeric = config.NUMERICAL_FEATURES\n",
    "\n",
    "df = pd.read_csv(path_data+config.DATA_FILE)\n",
    "df.head()"
   ]
  },
  {
   "source": [
    "## Separação em treino e validação"
   ],
   "cell_type": "markdown",
   "metadata": {}
  },
  {
   "cell_type": "code",
   "execution_count": 3,
   "metadata": {},
   "outputs": [
    {
     "output_type": "stream",
     "name": "stdout",
     "text": [
      "Dimensão do conjunto de treino: (388, 8)\nDimensão do conjunto de validação: (10, 8)\n"
     ]
    }
   ],
   "source": [
    "X_train, X_test, y_train, y_test = train_test_split(\n",
    "    df.drop([config.TARGET], axis=1), df[config.TARGET], test_size=0.025, random_state=config.RANDOM_STATE)\n",
    "\n",
    "print(f\"\"\"Dimensão do conjunto de treino: {X_train.shape}\n",
    "Dimensão do conjunto de validação: {X_test.shape}\"\"\")"
   ]
  },
  {
   "source": [
    "# Preparação dos dados usando o Pipeline\n",
    "\n",
    "## Primeiro: usando uma pipeline para as variáveis categóricas\n",
    "\n",
    "- criação do fator \"car brand\" contendo o nome do fabricante; e\n",
    "- transformaremos os dados categóricos em numéricos para serem consumidos pelo modelo."
   ],
   "cell_type": "markdown",
   "metadata": {}
  },
  {
   "cell_type": "code",
   "execution_count": 4,
   "metadata": {},
   "outputs": [
    {
     "output_type": "execute_result",
     "data": {
      "text/plain": [
       "     cylinders  displacement horsepower  weight  acceleration  model year  \\\n",
       "9            8         390.0        190    3850           8.5          70   \n",
       "383          4          91.0         67    1965          15.0          82   \n",
       "56           4          91.0         70    1955          20.5          71   \n",
       "72           8         304.0        150    3892          12.5          72   \n",
       "132          4         140.0         75    2542          17.0          74   \n",
       "\n",
       "     origin            car name  \n",
       "9         1  amc ambassador dpl  \n",
       "383       3         honda civic  \n",
       "56        1    plymouth cricket  \n",
       "72        1    amc matador (sw)  \n",
       "132       1      chevrolet vega  "
      ],
      "text/html": "<div>\n<style scoped>\n    .dataframe tbody tr th:only-of-type {\n        vertical-align: middle;\n    }\n\n    .dataframe tbody tr th {\n        vertical-align: top;\n    }\n\n    .dataframe thead th {\n        text-align: right;\n    }\n</style>\n<table border=\"1\" class=\"dataframe\">\n  <thead>\n    <tr style=\"text-align: right;\">\n      <th></th>\n      <th>cylinders</th>\n      <th>displacement</th>\n      <th>horsepower</th>\n      <th>weight</th>\n      <th>acceleration</th>\n      <th>model year</th>\n      <th>origin</th>\n      <th>car name</th>\n    </tr>\n  </thead>\n  <tbody>\n    <tr>\n      <th>9</th>\n      <td>8</td>\n      <td>390.0</td>\n      <td>190</td>\n      <td>3850</td>\n      <td>8.5</td>\n      <td>70</td>\n      <td>1</td>\n      <td>amc ambassador dpl</td>\n    </tr>\n    <tr>\n      <th>383</th>\n      <td>4</td>\n      <td>91.0</td>\n      <td>67</td>\n      <td>1965</td>\n      <td>15.0</td>\n      <td>82</td>\n      <td>3</td>\n      <td>honda civic</td>\n    </tr>\n    <tr>\n      <th>56</th>\n      <td>4</td>\n      <td>91.0</td>\n      <td>70</td>\n      <td>1955</td>\n      <td>20.5</td>\n      <td>71</td>\n      <td>1</td>\n      <td>plymouth cricket</td>\n    </tr>\n    <tr>\n      <th>72</th>\n      <td>8</td>\n      <td>304.0</td>\n      <td>150</td>\n      <td>3892</td>\n      <td>12.5</td>\n      <td>72</td>\n      <td>1</td>\n      <td>amc matador (sw)</td>\n    </tr>\n    <tr>\n      <th>132</th>\n      <td>4</td>\n      <td>140.0</td>\n      <td>75</td>\n      <td>2542</td>\n      <td>17.0</td>\n      <td>74</td>\n      <td>1</td>\n      <td>chevrolet vega</td>\n    </tr>\n  </tbody>\n</table>\n</div>"
     },
     "metadata": {},
     "execution_count": 4
    }
   ],
   "source": [
    "X_train.head()"
   ]
  },
  {
   "cell_type": "code",
   "execution_count": 8,
   "metadata": {},
   "outputs": [
    {
     "output_type": "execute_result",
     "data": {
      "text/plain": [
       "     cylinders  displacement  horsepower  weight  acceleration  model year  \\\n",
       "9            8         390.0       190.0    3850           8.5          70   \n",
       "383          4          91.0        67.0    1965          15.0          82   \n",
       "56           4          91.0        70.0    1955          20.5          71   \n",
       "72           8         304.0       150.0    3892          12.5          72   \n",
       "132          4         140.0        75.0    2542          17.0          74   \n",
       "\n",
       "     origin            car name  car brand  \n",
       "9         1  amc ambassador dpl   0.069588  \n",
       "383       3         honda civic   0.427835  \n",
       "56        1    plymouth cricket   0.074742  \n",
       "72        1    amc matador (sw)   0.069588  \n",
       "132       1      chevrolet vega   0.110825  "
      ],
      "text/html": "<div>\n<style scoped>\n    .dataframe tbody tr th:only-of-type {\n        vertical-align: middle;\n    }\n\n    .dataframe tbody tr th {\n        vertical-align: top;\n    }\n\n    .dataframe thead th {\n        text-align: right;\n    }\n</style>\n<table border=\"1\" class=\"dataframe\">\n  <thead>\n    <tr style=\"text-align: right;\">\n      <th></th>\n      <th>cylinders</th>\n      <th>displacement</th>\n      <th>horsepower</th>\n      <th>weight</th>\n      <th>acceleration</th>\n      <th>model year</th>\n      <th>origin</th>\n      <th>car name</th>\n      <th>car brand</th>\n    </tr>\n  </thead>\n  <tbody>\n    <tr>\n      <th>9</th>\n      <td>8</td>\n      <td>390.0</td>\n      <td>190.0</td>\n      <td>3850</td>\n      <td>8.5</td>\n      <td>70</td>\n      <td>1</td>\n      <td>amc ambassador dpl</td>\n      <td>0.069588</td>\n    </tr>\n    <tr>\n      <th>383</th>\n      <td>4</td>\n      <td>91.0</td>\n      <td>67.0</td>\n      <td>1965</td>\n      <td>15.0</td>\n      <td>82</td>\n      <td>3</td>\n      <td>honda civic</td>\n      <td>0.427835</td>\n    </tr>\n    <tr>\n      <th>56</th>\n      <td>4</td>\n      <td>91.0</td>\n      <td>70.0</td>\n      <td>1955</td>\n      <td>20.5</td>\n      <td>71</td>\n      <td>1</td>\n      <td>plymouth cricket</td>\n      <td>0.074742</td>\n    </tr>\n    <tr>\n      <th>72</th>\n      <td>8</td>\n      <td>304.0</td>\n      <td>150.0</td>\n      <td>3892</td>\n      <td>12.5</td>\n      <td>72</td>\n      <td>1</td>\n      <td>amc matador (sw)</td>\n      <td>0.069588</td>\n    </tr>\n    <tr>\n      <th>132</th>\n      <td>4</td>\n      <td>140.0</td>\n      <td>75.0</td>\n      <td>2542</td>\n      <td>17.0</td>\n      <td>74</td>\n      <td>1</td>\n      <td>chevrolet vega</td>\n      <td>0.110825</td>\n    </tr>\n  </tbody>\n</table>\n</div>"
     },
     "metadata": {},
     "execution_count": 8
    }
   ],
   "source": [
    "X_train = non_numeric_to_nan(X_train, lst_numeric)\n",
    "X_test = non_numeric_to_nan(X_test, lst_numeric)\n",
    "\n",
    "X_train[\"car brand\"] = X_train[\"car name\"].apply(get_car_brand)\n",
    "X_test[\"car brand\"] = X_test[\"car name\"].apply(get_car_brand)\n",
    "\n",
    "pipe_categorical.fit(X_train)\n",
    "X_train_encoded = pipe_categorical.transform(X_train)\n",
    "X_test_encoded = pipe_categorical.transform(X_test)\n",
    "\n",
    "X_train_encoded.head()"
   ]
  },
  {
   "cell_type": "code",
   "execution_count": 10,
   "metadata": {},
   "outputs": [
    {
     "output_type": "execute_result",
     "data": {
      "text/plain": [
       "     cylinders  displacement  horsepower  weight  acceleration  model year  \\\n",
       "198          4          91.0        53.0    1795          17.4          76   \n",
       "396          4         120.0        79.0    2625          18.6          82   \n",
       "33           6         232.0       100.0    2634          13.0          71   \n",
       "208          8         318.0       150.0    3940          13.2          76   \n",
       "93           8         318.0       150.0    4237          14.5          73   \n",
       "\n",
       "     origin                    car name  car brand  \n",
       "198       3                 honda civic   0.427835  \n",
       "396       1                 ford ranger   0.123711  \n",
       "33        1                 amc gremlin   0.069588  \n",
       "208       1  plymouth volare premier v8   0.074742  \n",
       "93        1    plymouth fury gran sedan   0.074742  "
      ],
      "text/html": "<div>\n<style scoped>\n    .dataframe tbody tr th:only-of-type {\n        vertical-align: middle;\n    }\n\n    .dataframe tbody tr th {\n        vertical-align: top;\n    }\n\n    .dataframe thead th {\n        text-align: right;\n    }\n</style>\n<table border=\"1\" class=\"dataframe\">\n  <thead>\n    <tr style=\"text-align: right;\">\n      <th></th>\n      <th>cylinders</th>\n      <th>displacement</th>\n      <th>horsepower</th>\n      <th>weight</th>\n      <th>acceleration</th>\n      <th>model year</th>\n      <th>origin</th>\n      <th>car name</th>\n      <th>car brand</th>\n    </tr>\n  </thead>\n  <tbody>\n    <tr>\n      <th>198</th>\n      <td>4</td>\n      <td>91.0</td>\n      <td>53.0</td>\n      <td>1795</td>\n      <td>17.4</td>\n      <td>76</td>\n      <td>3</td>\n      <td>honda civic</td>\n      <td>0.427835</td>\n    </tr>\n    <tr>\n      <th>396</th>\n      <td>4</td>\n      <td>120.0</td>\n      <td>79.0</td>\n      <td>2625</td>\n      <td>18.6</td>\n      <td>82</td>\n      <td>1</td>\n      <td>ford ranger</td>\n      <td>0.123711</td>\n    </tr>\n    <tr>\n      <th>33</th>\n      <td>6</td>\n      <td>232.0</td>\n      <td>100.0</td>\n      <td>2634</td>\n      <td>13.0</td>\n      <td>71</td>\n      <td>1</td>\n      <td>amc gremlin</td>\n      <td>0.069588</td>\n    </tr>\n    <tr>\n      <th>208</th>\n      <td>8</td>\n      <td>318.0</td>\n      <td>150.0</td>\n      <td>3940</td>\n      <td>13.2</td>\n      <td>76</td>\n      <td>1</td>\n      <td>plymouth volare premier v8</td>\n      <td>0.074742</td>\n    </tr>\n    <tr>\n      <th>93</th>\n      <td>8</td>\n      <td>318.0</td>\n      <td>150.0</td>\n      <td>4237</td>\n      <td>14.5</td>\n      <td>73</td>\n      <td>1</td>\n      <td>plymouth fury gran sedan</td>\n      <td>0.074742</td>\n    </tr>\n  </tbody>\n</table>\n</div>"
     },
     "metadata": {},
     "execution_count": 10
    }
   ],
   "source": [
    "X_test_encoded.head()"
   ]
  },
  {
   "source": [
    "## Segundo: substituir os valores faltantes dos fatores numéricos usando KNN"
   ],
   "cell_type": "markdown",
   "metadata": {}
  },
  {
   "cell_type": "code",
   "execution_count": null,
   "metadata": {},
   "outputs": [],
   "source": []
  },
  {
   "cell_type": "markdown",
   "metadata": {},
   "source": [
    "## Testando um vários modelos de regressão usando o PyCaret"
   ]
  },
  {
   "cell_type": "code",
   "execution_count": null,
   "metadata": {
    "ExecuteTime": {
     "end_time": "2020-12-07T01:29:24.612764Z",
     "start_time": "2020-12-07T01:28:50.524185Z"
    }
   },
   "outputs": [],
   "source": [
    "regression = setup(data=X_train_encoded, target='mpg')\n",
    "\n",
    "best = compare_models(sort='MSE')"
   ]
  },
  {
   "cell_type": "markdown",
   "metadata": {},
   "source": [
    "## Testando regressão linear com regularização de rede elástica\n",
    "\n",
    "### Rodando com valores padrões (*default*)"
   ]
  },
  {
   "cell_type": "code",
   "execution_count": null,
   "metadata": {
    "ExecuteTime": {
     "end_time": "2020-12-07T01:29:39.371883Z",
     "start_time": "2020-12-07T01:29:39.337836Z"
    }
   },
   "outputs": [],
   "source": [
    "X = X_train_encoded.drop(['mpg'], axis=1)\n",
    "y = X_train_encoded['mpg']\n",
    "scoring='neg_mean_squared_error'\n",
    "random_state=42\n",
    "\n",
    "model = ElasticNet(random_state=random_state)\n",
    "model.fit(X, y)\n",
    "\n",
    "cross = cross_validate(model, X, y, cv=3, scoring=scoring,\n",
    "                       return_train_score=True, return_estimator=True, n_jobs=-1)\n",
    "\n",
    "for key in ['test_score', 'train_score']:\n",
    "    print(f\"\"\"{key}: {round(-cross[key].mean(), 3)}\"\"\")"
   ]
  },
  {
   "cell_type": "markdown",
   "metadata": {},
   "source": [
    "### Tunning do modelo"
   ]
  },
  {
   "cell_type": "code",
   "execution_count": null,
   "metadata": {
    "ExecuteTime": {
     "end_time": "2020-12-07T01:29:42.841640Z",
     "start_time": "2020-12-07T01:29:42.510129Z"
    }
   },
   "outputs": [],
   "source": [
    "params = {\"alpha\":[0.001, 0.01, 0.05, 0.1],\n",
    "          \"l1_ratio\":[0.75, 0.9, 0.98, 1],\n",
    "          \"selection\":['cyclic', 'random']}\n",
    "\n",
    "grid_search = GridSearchCV(estimator=model, param_grid=params,\n",
    "                           scoring=scoring, cv=3, n_jobs=-1, return_train_score=True)\n",
    "\n",
    "grid_search = grid_search.fit(X, y)\n",
    "\n",
    "print(f\"\"\"Best hyperparameters: {grid_search.best_params_}\"\"\")\n",
    "print(f\"\"\"{scoring}: {round(grid_search.score(X, y),3)}\"\"\")\n",
    "\n",
    "for item in [\"mean_test_score\", \"mean_train_score\"]:\n",
    "    print(f\"\"\"{item}: {round(np.mean(grid_search.cv_results_[item]), 3)}\"\"\")\n",
    "    "
   ]
  },
  {
   "cell_type": "code",
   "execution_count": null,
   "metadata": {
    "ExecuteTime": {
     "end_time": "2020-12-07T01:29:52.414264Z",
     "start_time": "2020-12-07T01:29:52.381993Z"
    }
   },
   "outputs": [],
   "source": [
    "model = ElasticNet(**grid_search.best_params_, random_state=random_state)\n",
    "model.fit(X, y)\n",
    "\n",
    "cross = cross_validate(model, X, y, cv=3, scoring=scoring,\n",
    "                       return_train_score=True, return_estimator=True, n_jobs=-1)\n",
    "\n",
    "for key in ['test_score', 'train_score']:\n",
    "    print(f\"\"\"{key}: {round(-cross[key].mean(), 3)}\"\"\")"
   ]
  },
  {
   "cell_type": "code",
   "execution_count": null,
   "metadata": {},
   "outputs": [],
   "source": [
    "try:\n",
    "    check_is_fitted(model)\n",
    "    print(\"Fittado.\")\n",
    "except:\n",
    "    print(\"Não fittado.\")\n"
   ]
  },
  {
   "cell_type": "code",
   "execution_count": null,
   "metadata": {
    "ExecuteTime": {
     "end_time": "2020-12-07T01:29:55.178208Z",
     "start_time": "2020-12-07T01:29:55.167245Z"
    }
   },
   "outputs": [],
   "source": [
    "lst_columns = X_train_encoded.columns.tolist()[:-1]\n",
    "coef_importance = pd.DataFrame(data=model.coef_.reshape(1,-1), columns=lst_columns)"
   ]
  },
  {
   "cell_type": "markdown",
   "metadata": {},
   "source": [
    "## Plotando"
   ]
  },
  {
   "cell_type": "code",
   "execution_count": null,
   "metadata": {
    "ExecuteTime": {
     "end_time": "2020-12-07T01:30:04.624821Z",
     "start_time": "2020-12-07T01:30:04.613829Z"
    }
   },
   "outputs": [],
   "source": [
    "def create_linspace_df(df, features_list=[None], elements_number=100):\n",
    "    \"\"\"\n",
    "    O objetivo desta função é criar um dataframe com uma quantidade de registros igualmente espaçados,\n",
    "    indicado para usar em regressão.\n",
    "    \n",
    "    Inputs:\n",
    "        df: DataFrame do qual deseja-se criar o domínio igualmente espaçado.\n",
    "        features_list: lista com as variáveis nu\n",
    "        elements_number: 100\n",
    "    \n",
    "    Output:\n",
    "        df_result: DataFrame\n",
    "    \"\"\"\n",
    "    import pandas as pd\n",
    "    \n",
    "    if features_list[0]==None:\n",
    "        features_list = df.select_dtypes(include=[float, \"float32\", \"float64\"]).columns\n",
    "    else:\n",
    "        pass\n",
    "    \n",
    "    df_result = pd.DataFrame()\n",
    "    \n",
    "    for feature in features_list:\n",
    "        min_temp = int(df[feature].min()*.95)\n",
    "        max_temp = int(df[feature].max()*1.05)\n",
    "        df_result[feature] = np.linspace(min_temp, max_temp, num=elements_number, endpoint=True)\n",
    "        \n",
    "    return df_result"
   ]
  },
  {
   "cell_type": "code",
   "execution_count": null,
   "metadata": {
    "ExecuteTime": {
     "end_time": "2020-12-07T01:30:12.170980Z",
     "start_time": "2020-12-07T01:30:12.145935Z"
    }
   },
   "outputs": [],
   "source": [
    "df_reg = create_linspace_df(X_train_encoded, features_list=lst_columns, elements_number=50)\n",
    "\n",
    "# Obtendo as equações de reta para cada relação \"fator vs 'mpg'\".\n",
    "dct_equations = {}\n",
    "\n",
    "model = ElasticNet(**grid_search.best_params_, random_state=random_state)\n",
    "model.fit(X, y)\n",
    "\n",
    "str_equation = \"y = \"+str(round(model.intercept_, 2))\n",
    "\n",
    "for coef, feature in zip(model.coef_, lst_columns):\n",
    "    if -0.1 < coef < 0.1:\n",
    "        pass\n",
    "    else:\n",
    "        str_equation += \" + (\" + str(round(coef, 2)) + \"*\"+feature+\")\"\n",
    "\n",
    "df_reg[\"y_pred_mpg\"] = model.predict(df_reg)\n",
    "    \n",
    "print(f\"Dimensão da matriz: {df_reg.shape}\")\n",
    "\n",
    "str_equation"
   ]
  },
  {
   "cell_type": "markdown",
   "metadata": {},
   "source": [
    "### Fatores mais importantes:"
   ]
  },
  {
   "cell_type": "code",
   "execution_count": null,
   "metadata": {
    "ExecuteTime": {
     "end_time": "2020-12-07T02:04:28.087783Z",
     "start_time": "2020-12-07T02:04:27.875784Z"
    }
   },
   "outputs": [],
   "source": [
    "coef_importance = pd.DataFrame.from_dict(dict(zip(lst_columns, model.coef_)), orient='index', columns=['coeficient'])\n",
    "coef_importance = coef_importance.loc[(coef_importance[\"coeficient\"]>0.1) | (coef_importance[\"coeficient\"]<-0.1),:]\n",
    "# coef_importance\n",
    "coef_importance.sort_values(by='coeficient', ascending=False).plot(kind='bar');\n",
    "lst_columns = coef_importance.index"
   ]
  },
  {
   "cell_type": "code",
   "execution_count": null,
   "metadata": {
    "ExecuteTime": {
     "end_time": "2020-12-07T01:33:34.951497Z",
     "start_time": "2020-12-07T01:33:32.465932Z"
    }
   },
   "outputs": [],
   "source": [
    "if len(lst_columns)%2==0:\n",
    "    nrows = int(len(lst_columns)/2)\n",
    "else:\n",
    "    nrows = int(len(lst_columns)/2)+1\n",
    "\n",
    "figsize_height = nrows*5\n",
    "\n",
    "fig, axs = plt.subplots(ncols=2, nrows=nrows, figsize=(14,figsize_height), sharey=True, gridspec_kw={'hspace': .35, 'wspace': .1})\n",
    "\n",
    "row = col = 0\n",
    "\n",
    "for i, feature in enumerate(lst_columns):\n",
    "    axs[row, col].scatter(data=X_train_encoded, x=feature, y=\"mpg\")\n",
    "    # axs[row, col].scatter(data=df_reg, x=feature, y=\"y_pred_mpg\", color='red', 'r-')\n",
    "    axs[row, col].plot(df_reg[feature], df_reg[\"y_pred_mpg\"], color='red')\n",
    "    axs[row, col].set_title(\"Regressão linear simples de\\n'\"+feature+\"' vs 'mpg'\",\n",
    "                            fontdict={'fontsize':14}, pad=12)\n",
    "    axs[row, col].set(ylim=[0,50], xlabel=feature);\n",
    "            \n",
    "#     textstr = f\"\"\" Equação da reta: \\n{str_equation}\"\"\"\n",
    "\n",
    "    props = dict(boxstyle='round', facecolor='wheat', alpha=0.25)\n",
    "    \n",
    "#     axs[row, col].text(.65, 0.96, textstr, transform=axs[row, col].transAxes, fontsize=12,\n",
    "#         verticalalignment='top', bbox=props, color='red');\n",
    "\n",
    "    if (i+1)%2!=0:\n",
    "        col += 1\n",
    "    else:\n",
    "        col = 0\n",
    "        row += 1\n",
    "        \n",
    "for ax in axs.flat:\n",
    "    ax.set(ylabel='mpg')"
   ]
  },
  {
   "cell_type": "code",
   "execution_count": null,
   "metadata": {},
   "outputs": [],
   "source": []
  },
  {
   "cell_type": "code",
   "execution_count": null,
   "metadata": {},
   "outputs": [],
   "source": []
  }
 ],
 "metadata": {
  "hide_input": false,
  "kernelspec": {
   "name": "python385jvsc74a57bd06a39fe1b9c9e23904e1ca76fa7408dcae853f61ee875e845dc9c1a44bcef4ce6",
   "display_name": "Python 3.8.5 64-bit ('regression_course': pipenv)"
  },
  "language_info": {
   "codemirror_mode": {
    "name": "ipython",
    "version": 3
   },
   "file_extension": ".py",
   "mimetype": "text/x-python",
   "name": "python",
   "nbconvert_exporter": "python",
   "pygments_lexer": "ipython3",
   "version": "3.8.5-final"
  },
  "toc": {
   "base_numbering": 1,
   "nav_menu": {},
   "number_sections": true,
   "sideBar": true,
   "skip_h1_title": false,
   "title_cell": "Table of Contents",
   "title_sidebar": "Contents",
   "toc_cell": false,
   "toc_position": {},
   "toc_section_display": true,
   "toc_window_display": false
  },
  "metadata": {
   "interpreter": {
    "hash": "aa8e4de9f4426ab75fdef01f3d7947e2b3e9cfbdb80ba65115d4f20988c8517e"
   }
  }
 },
 "nbformat": 4,
 "nbformat_minor": 4
}