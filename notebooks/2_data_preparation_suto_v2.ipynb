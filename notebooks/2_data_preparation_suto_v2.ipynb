{
 "cells": [
  {
   "cell_type": "markdown",
   "metadata": {},
   "source": [
    "# 2_data_preparation_suto"
   ]
  },
  {
   "cell_type": "code",
   "execution_count": 1,
   "metadata": {
    "ExecuteTime": {
     "end_time": "2020-12-07T01:28:36.463562Z",
     "start_time": "2020-12-07T01:28:36.456535Z"
    }
   },
   "outputs": [],
   "source": [
    "import os\n",
    "import warnings\n",
    "\n",
    "import pandas as pd\n",
    "from pandas.api.types import is_string_dtype\n",
    "import numpy as np\n",
    "\n",
    "import matplotlib.pyplot as plt\n",
    "import seaborn as sns\n",
    "\n",
    "from feature_engine.encoding import RareLabelEncoder, CountFrequencyEncoder\n",
    "\n",
    "from sklearn.base import BaseEstimator, TransformerMixin\n",
    "from sklearn.impute import KNNImputer\n",
    "from sklearn.linear_model import LinearRegression\n",
    "from sklearn.metrics import mean_absolute_error, mean_squared_error\n",
    "from sklearn.model_selection import (\n",
    "    cross_val_score, RepeatedStratifiedKFold, RandomizedSearchCV, GridSearchCV, train_test_split)\n",
    "from sklearn.pipeline import Pipeline\n",
    "from sklearn.preprocessing import PolynomialFeatures\n",
    "\n",
    "warnings.filterwarnings(\"ignore\")\n",
    "\n",
    "path_data = \"../data/raw/\"\n",
    "path_interim_data = \"../data/interim/\"\n",
    "\n",
    "# Parâmetros estéticos dos gráficos:\n",
    "set_palette = \"Paired\"\n",
    "axes_style = \"ticks\"\n",
    "\n",
    "linha = 50*\"-\""
   ]
  },
  {
   "cell_type": "code",
   "execution_count": 2,
   "metadata": {},
   "outputs": [],
   "source": [
    "def non_numeric_to_nan(df: pd.DataFrame, lst_numeric: list) -> pd.DataFrame:\n",
    "    \"\"\" This function only transform non numeric values of numeric columns into np.nans\"\"\"\n",
    "\n",
    "    df_transformed = df.copy()\n",
    "    lst_columns = df.columns.tolist()\n",
    "    for feature in lst_numeric:\n",
    "        if is_string_dtype(df_transformed[feature]):\n",
    "            df_transformed.loc[~df_transformed[feature].str.isnumeric(), feature] = np.nan\n",
    "            df_transformed[feature] = df_transformed[feature].astype('float64')\n",
    "\n",
    "    return df_transformed\n",
    "\n",
    "class KNNImputerDataframe(BaseEstimator, TransformerMixin):  \n",
    "\n",
    "    def __init__(self, lst_numeric: list) -> None:\n",
    "        if not isinstance(lst_numeric, list):\n",
    "            self.lst_numeric = [lst_numeric]\n",
    "        else:\n",
    "            self.lst_numeric = lst_numeric\n",
    "\n",
    "\n",
    "    def fit(self, X: pd.DataFrame):\n",
    "        # persist mode in a dictionary\n",
    "        model = KNNImputer(n_neighbors=2, weights='distance')\n",
    "        model.fit(X[self.lst_numeric])\n",
    "        self.model = model\n",
    "\n",
    "        return self\n",
    "\n",
    "\n",
    "    def transform(self, X: pd.DataFrame):\n",
    "        # if not self.model.check_is_fitted():\n",
    "        #     print(\"Model not fitted.\")\n",
    "        # else:\n",
    "        #     df_transformed = self.model.transform(X)\n",
    "        lst_columns = X.columns.tolist()\n",
    "        lst_index = X.index.tolist()\n",
    "\n",
    "        df_transformed = self.model.transform(X[self.lst_numeric])\n",
    "        df_transformed = pd.DataFrame(df_transformed, columns=self.lst_numeric, index=lst_index)\n",
    "        \n",
    "        X.drop(self.lst_numeric, axis=1, inplace=True)\n",
    "        df_transformed = pd.concat([X, df_transformed], axis=1)\n",
    "        df_transformed = df_transformed[lst_columns]\n",
    "        \n",
    "        return df_transformed\n",
    "\n",
    "\n",
    "def get_car_brand(string):\n",
    "    \"\"\"\n",
    "    Essa função, extrai a marca do carro. Ela extrai os caracteres anteriores ao primeiro espaço.\n",
    "    Inputs: string\n",
    "    Output: slice de string\n",
    "    \"\"\"\n",
    "    index = string.find(\" \")\n",
    "    return string[:index]"
   ]
  },
  {
   "cell_type": "code",
   "execution_count": 3,
   "metadata": {
    "ExecuteTime": {
     "end_time": "2020-12-07T01:28:36.495533Z",
     "start_time": "2020-12-07T01:28:36.465535Z"
    }
   },
   "outputs": [
    {
     "output_type": "stream",
     "name": "stdout",
     "text": [
      "Dimensões do dataset: (398, 9)\n"
     ]
    },
    {
     "output_type": "execute_result",
     "data": {
      "text/plain": [
       "    mpg  cylinders  displacement horsepower  weight  acceleration  model year  \\\n",
       "0  18.0          8         307.0        130    3504          12.0          70   \n",
       "1  15.0          8         350.0        165    3693          11.5          70   \n",
       "2  18.0          8         318.0        150    3436          11.0          70   \n",
       "3  16.0          8         304.0        150    3433          12.0          70   \n",
       "4  17.0          8         302.0        140    3449          10.5          70   \n",
       "\n",
       "   origin                   car name  \n",
       "0       1  chevrolet chevelle malibu  \n",
       "1       1          buick skylark 320  \n",
       "2       1         plymouth satellite  \n",
       "3       1              amc rebel sst  \n",
       "4       1                ford torino  "
      ],
      "text/html": "<div>\n<style scoped>\n    .dataframe tbody tr th:only-of-type {\n        vertical-align: middle;\n    }\n\n    .dataframe tbody tr th {\n        vertical-align: top;\n    }\n\n    .dataframe thead th {\n        text-align: right;\n    }\n</style>\n<table border=\"1\" class=\"dataframe\">\n  <thead>\n    <tr style=\"text-align: right;\">\n      <th></th>\n      <th>mpg</th>\n      <th>cylinders</th>\n      <th>displacement</th>\n      <th>horsepower</th>\n      <th>weight</th>\n      <th>acceleration</th>\n      <th>model year</th>\n      <th>origin</th>\n      <th>car name</th>\n    </tr>\n  </thead>\n  <tbody>\n    <tr>\n      <th>0</th>\n      <td>18.0</td>\n      <td>8</td>\n      <td>307.0</td>\n      <td>130</td>\n      <td>3504</td>\n      <td>12.0</td>\n      <td>70</td>\n      <td>1</td>\n      <td>chevrolet chevelle malibu</td>\n    </tr>\n    <tr>\n      <th>1</th>\n      <td>15.0</td>\n      <td>8</td>\n      <td>350.0</td>\n      <td>165</td>\n      <td>3693</td>\n      <td>11.5</td>\n      <td>70</td>\n      <td>1</td>\n      <td>buick skylark 320</td>\n    </tr>\n    <tr>\n      <th>2</th>\n      <td>18.0</td>\n      <td>8</td>\n      <td>318.0</td>\n      <td>150</td>\n      <td>3436</td>\n      <td>11.0</td>\n      <td>70</td>\n      <td>1</td>\n      <td>plymouth satellite</td>\n    </tr>\n    <tr>\n      <th>3</th>\n      <td>16.0</td>\n      <td>8</td>\n      <td>304.0</td>\n      <td>150</td>\n      <td>3433</td>\n      <td>12.0</td>\n      <td>70</td>\n      <td>1</td>\n      <td>amc rebel sst</td>\n    </tr>\n    <tr>\n      <th>4</th>\n      <td>17.0</td>\n      <td>8</td>\n      <td>302.0</td>\n      <td>140</td>\n      <td>3449</td>\n      <td>10.5</td>\n      <td>70</td>\n      <td>1</td>\n      <td>ford torino</td>\n    </tr>\n  </tbody>\n</table>\n</div>"
     },
     "metadata": {},
     "execution_count": 3
    }
   ],
   "source": [
    "df_data = pd.read_csv(path_data+\"auto-mpg.csv\")\n",
    "\n",
    "print(f\"Dimensões do dataset: {df_data.shape}\")\n",
    "\n",
    "df_data.head()"
   ]
  },
  {
   "source": [
    "## Separação em conjunto de treino e validação"
   ],
   "cell_type": "markdown",
   "metadata": {}
  },
  {
   "cell_type": "code",
   "execution_count": 4,
   "metadata": {
    "ExecuteTime": {
     "end_time": "2020-12-07T01:28:36.511536Z",
     "start_time": "2020-12-07T01:28:36.496533Z"
    }
   },
   "outputs": [
    {
     "output_type": "stream",
     "name": "stdout",
     "text": [
      "Dimensão do conjunto de treino: (358, 8)\nDimensão do conjunto de validação: (40, 8)\n"
     ]
    }
   ],
   "source": [
    "X = df_data.drop(['mpg'], axis=1)\n",
    "y = df_data['mpg']\n",
    "\n",
    "X_train, X_test, y_train, y_test = train_test_split(X, y, test_size=0.1, random_state=42)\n",
    "\n",
    "print(f\"\"\"Dimensão do conjunto de treino: {X_train.shape}\n",
    "Dimensão do conjunto de validação: {X_test.shape}\"\"\")"
   ]
  },
  {
   "source": [
    "## Etapas da preparação:\n",
    "\n",
    "Conforme concluimos na etapa anterior, a preparação de dados passará pelos seguintes processos:\n",
    " \n",
    " 1. substituir os valores faltantes dos fatores numéricos usando KNN;\n",
    " 1. criação do fator \"car brand\" contendo o nome do fabricante; e\n",
    " 1. transformaremos os dados categóricos em numéricos para serem consumidos pelo modelo.\n",
    "\n",
    "\n",
    " ### 1. substituir os valores faltantes dos fatores contínuos usando KNN"
   ],
   "cell_type": "markdown",
   "metadata": {}
  },
  {
   "cell_type": "code",
   "execution_count": 5,
   "metadata": {},
   "outputs": [
    {
     "output_type": "stream",
     "name": "stdout",
     "text": [
      "Índices que possuem NaNs: [336, 374, 32, 354, 330]\n\n"
     ]
    },
    {
     "output_type": "execute_result",
     "data": {
      "text/plain": [
       "     cylinders  displacement  horsepower  weight  acceleration  model year  \\\n",
       "336          4         140.0         NaN    2905          14.3          80   \n",
       "374          4         151.0         NaN    3035          20.5          82   \n",
       "32           4          98.0         NaN    2046          19.0          71   \n",
       "354          4         100.0         NaN    2320          15.8          81   \n",
       "330          4          85.0         NaN    1835          17.3          80   \n",
       "\n",
       "     origin              car name  \n",
       "336       1    ford mustang cobra  \n",
       "374       1        amc concord dl  \n",
       "32        1            ford pinto  \n",
       "354       2           renault 18i  \n",
       "330       2  renault lecar deluxe  "
      ],
      "text/html": "<div>\n<style scoped>\n    .dataframe tbody tr th:only-of-type {\n        vertical-align: middle;\n    }\n\n    .dataframe tbody tr th {\n        vertical-align: top;\n    }\n\n    .dataframe thead th {\n        text-align: right;\n    }\n</style>\n<table border=\"1\" class=\"dataframe\">\n  <thead>\n    <tr style=\"text-align: right;\">\n      <th></th>\n      <th>cylinders</th>\n      <th>displacement</th>\n      <th>horsepower</th>\n      <th>weight</th>\n      <th>acceleration</th>\n      <th>model year</th>\n      <th>origin</th>\n      <th>car name</th>\n    </tr>\n  </thead>\n  <tbody>\n    <tr>\n      <th>336</th>\n      <td>4</td>\n      <td>140.0</td>\n      <td>NaN</td>\n      <td>2905</td>\n      <td>14.3</td>\n      <td>80</td>\n      <td>1</td>\n      <td>ford mustang cobra</td>\n    </tr>\n    <tr>\n      <th>374</th>\n      <td>4</td>\n      <td>151.0</td>\n      <td>NaN</td>\n      <td>3035</td>\n      <td>20.5</td>\n      <td>82</td>\n      <td>1</td>\n      <td>amc concord dl</td>\n    </tr>\n    <tr>\n      <th>32</th>\n      <td>4</td>\n      <td>98.0</td>\n      <td>NaN</td>\n      <td>2046</td>\n      <td>19.0</td>\n      <td>71</td>\n      <td>1</td>\n      <td>ford pinto</td>\n    </tr>\n    <tr>\n      <th>354</th>\n      <td>4</td>\n      <td>100.0</td>\n      <td>NaN</td>\n      <td>2320</td>\n      <td>15.8</td>\n      <td>81</td>\n      <td>2</td>\n      <td>renault 18i</td>\n    </tr>\n    <tr>\n      <th>330</th>\n      <td>4</td>\n      <td>85.0</td>\n      <td>NaN</td>\n      <td>1835</td>\n      <td>17.3</td>\n      <td>80</td>\n      <td>2</td>\n      <td>renault lecar deluxe</td>\n    </tr>\n  </tbody>\n</table>\n</div>"
     },
     "metadata": {},
     "execution_count": 5
    }
   ],
   "source": [
    "lst_continuas = ['acceleration', 'displacement', 'horsepower']\n",
    "\n",
    "X_train = non_numeric_to_nan(X_train, lst_continuas)\n",
    "\n",
    "selected_indexes = X_train.loc[X_train.isna().any(axis=1)].index.tolist()\n",
    "print(f\"Índices que possuem NaNs: {selected_indexes}\\n\")\n",
    "\n",
    "X_train.loc[selected_indexes, :]"
   ]
  },
  {
   "cell_type": "code",
   "execution_count": 61,
   "metadata": {},
   "outputs": [
    {
     "output_type": "execute_result",
     "data": {
      "text/plain": [
       "     cylinders  displacement  horsepower  weight  acceleration  model year  \\\n",
       "336          4         140.0   82.769231    2905          14.3          80   \n",
       "374          4         151.0   90.000000    3035          20.5          82   \n",
       "32           4          98.0   65.333333    2046          19.0          71   \n",
       "354          4         100.0   78.371799    2320          15.8          81   \n",
       "330          4          85.0   70.000000    1835          17.3          80   \n",
       "\n",
       "     origin              car name  \n",
       "336       1    ford mustang cobra  \n",
       "374       1        amc concord dl  \n",
       "32        1            ford pinto  \n",
       "354       2           renault 18i  \n",
       "330       2  renault lecar deluxe  "
      ],
      "text/html": "<div>\n<style scoped>\n    .dataframe tbody tr th:only-of-type {\n        vertical-align: middle;\n    }\n\n    .dataframe tbody tr th {\n        vertical-align: top;\n    }\n\n    .dataframe thead th {\n        text-align: right;\n    }\n</style>\n<table border=\"1\" class=\"dataframe\">\n  <thead>\n    <tr style=\"text-align: right;\">\n      <th></th>\n      <th>cylinders</th>\n      <th>displacement</th>\n      <th>horsepower</th>\n      <th>weight</th>\n      <th>acceleration</th>\n      <th>model year</th>\n      <th>origin</th>\n      <th>car name</th>\n    </tr>\n  </thead>\n  <tbody>\n    <tr>\n      <th>336</th>\n      <td>4</td>\n      <td>140.0</td>\n      <td>82.769231</td>\n      <td>2905</td>\n      <td>14.3</td>\n      <td>80</td>\n      <td>1</td>\n      <td>ford mustang cobra</td>\n    </tr>\n    <tr>\n      <th>374</th>\n      <td>4</td>\n      <td>151.0</td>\n      <td>90.000000</td>\n      <td>3035</td>\n      <td>20.5</td>\n      <td>82</td>\n      <td>1</td>\n      <td>amc concord dl</td>\n    </tr>\n    <tr>\n      <th>32</th>\n      <td>4</td>\n      <td>98.0</td>\n      <td>65.333333</td>\n      <td>2046</td>\n      <td>19.0</td>\n      <td>71</td>\n      <td>1</td>\n      <td>ford pinto</td>\n    </tr>\n    <tr>\n      <th>354</th>\n      <td>4</td>\n      <td>100.0</td>\n      <td>78.371799</td>\n      <td>2320</td>\n      <td>15.8</td>\n      <td>81</td>\n      <td>2</td>\n      <td>renault 18i</td>\n    </tr>\n    <tr>\n      <th>330</th>\n      <td>4</td>\n      <td>85.0</td>\n      <td>70.000000</td>\n      <td>1835</td>\n      <td>17.3</td>\n      <td>80</td>\n      <td>2</td>\n      <td>renault lecar deluxe</td>\n    </tr>\n  </tbody>\n</table>\n</div>"
     },
     "metadata": {},
     "execution_count": 61
    }
   ],
   "source": [
    "model = KNNImputerDataframe(lst_continuas)\n",
    "model.fit(X_train)\n",
    "X_train = model.transform(X_train)\n",
    "\n",
    "X_train.loc[selected_indexes, :]"
   ]
  },
  {
   "source": [
    "### 2. criação do fator \"car brand\" contendo o nome do fabricante"
   ],
   "cell_type": "markdown",
   "metadata": {}
  },
  {
   "cell_type": "code",
   "execution_count": 66,
   "metadata": {},
   "outputs": [
    {
     "output_type": "execute_result",
     "data": {
      "text/plain": [
       "     cylinders  displacement  horsepower  weight  acceleration  model year  \\\n",
       "307          6         173.0       115.0    2700          12.9          79   \n",
       "55           4          97.0        60.0    1834          19.0          71   \n",
       "76           4         121.0       112.0    2933          14.5          72   \n",
       "25           8         360.0       215.0    4615          14.0          70   \n",
       "82           4         120.0        97.0    2506          14.5          72   \n",
       "\n",
       "     origin                     car name   car brand  \n",
       "307       1    oldsmobile omega brougham  oldsmobile  \n",
       "55        2         volkswagen model 111  volkswagen  \n",
       "76        2              volvo 145e (sw)       volvo  \n",
       "25        1                    ford f250        ford  \n",
       "82        3  toyouta corona mark ii (sw)      toyota  "
      ],
      "text/html": "<div>\n<style scoped>\n    .dataframe tbody tr th:only-of-type {\n        vertical-align: middle;\n    }\n\n    .dataframe tbody tr th {\n        vertical-align: top;\n    }\n\n    .dataframe thead th {\n        text-align: right;\n    }\n</style>\n<table border=\"1\" class=\"dataframe\">\n  <thead>\n    <tr style=\"text-align: right;\">\n      <th></th>\n      <th>cylinders</th>\n      <th>displacement</th>\n      <th>horsepower</th>\n      <th>weight</th>\n      <th>acceleration</th>\n      <th>model year</th>\n      <th>origin</th>\n      <th>car name</th>\n      <th>car brand</th>\n    </tr>\n  </thead>\n  <tbody>\n    <tr>\n      <th>307</th>\n      <td>6</td>\n      <td>173.0</td>\n      <td>115.0</td>\n      <td>2700</td>\n      <td>12.9</td>\n      <td>79</td>\n      <td>1</td>\n      <td>oldsmobile omega brougham</td>\n      <td>oldsmobile</td>\n    </tr>\n    <tr>\n      <th>55</th>\n      <td>4</td>\n      <td>97.0</td>\n      <td>60.0</td>\n      <td>1834</td>\n      <td>19.0</td>\n      <td>71</td>\n      <td>2</td>\n      <td>volkswagen model 111</td>\n      <td>volkswagen</td>\n    </tr>\n    <tr>\n      <th>76</th>\n      <td>4</td>\n      <td>121.0</td>\n      <td>112.0</td>\n      <td>2933</td>\n      <td>14.5</td>\n      <td>72</td>\n      <td>2</td>\n      <td>volvo 145e (sw)</td>\n      <td>volvo</td>\n    </tr>\n    <tr>\n      <th>25</th>\n      <td>8</td>\n      <td>360.0</td>\n      <td>215.0</td>\n      <td>4615</td>\n      <td>14.0</td>\n      <td>70</td>\n      <td>1</td>\n      <td>ford f250</td>\n      <td>ford</td>\n    </tr>\n    <tr>\n      <th>82</th>\n      <td>4</td>\n      <td>120.0</td>\n      <td>97.0</td>\n      <td>2506</td>\n      <td>14.5</td>\n      <td>72</td>\n      <td>3</td>\n      <td>toyouta corona mark ii (sw)</td>\n      <td>toyota</td>\n    </tr>\n  </tbody>\n</table>\n</div>"
     },
     "metadata": {},
     "execution_count": 66
    }
   ],
   "source": [
    "X_train[\"car brand\"] = X_train[\"car name\"].apply(get_car_brand)\n",
    "X_train[\"car brand\"].replace(\n",
    "    {\"chevroelt\":\"chevrolet\", \"maxda\":\"mazda\", \"mercedes-benz\":\"mercedes\", \"subar\":\"subaru\",\n",
    "    \"toyouta\":\"toyota\", \"vokswagen\":\"volkswagen\",\"vw\":\"volkswagen\"}, inplace=True)\n",
    "\n",
    "X_train.head()"
   ]
  },
  {
   "source": [
    "### 3. transformaremos os dados categóricos em numéricos para serem consumidos pelo modelo"
   ],
   "cell_type": "markdown",
   "metadata": {}
  },
  {
   "cell_type": "code",
   "execution_count": 72,
   "metadata": {},
   "outputs": [
    {
     "output_type": "execute_result",
     "data": {
      "text/plain": [
       "     cylinders  displacement  horsepower  weight  acceleration  model year  \\\n",
       "307          6         173.0       115.0    2700          12.9          79   \n",
       "55           4          97.0        60.0    1834          19.0          71   \n",
       "76           4         121.0       112.0    2933          14.5          72   \n",
       "25           8         360.0       215.0    4615          14.0          70   \n",
       "82           4         120.0        97.0    2506          14.5          72   \n",
       "\n",
       "     origin                     car name  car brand  \n",
       "307       1    oldsmobile omega brougham   0.365922  \n",
       "55        2         volkswagen model 111   0.053073  \n",
       "76        2              volvo 145e (sw)   0.365922  \n",
       "25        1                    ford f250   0.125698  \n",
       "82        3  toyouta corona mark ii (sw)   0.067039  "
      ],
      "text/html": "<div>\n<style scoped>\n    .dataframe tbody tr th:only-of-type {\n        vertical-align: middle;\n    }\n\n    .dataframe tbody tr th {\n        vertical-align: top;\n    }\n\n    .dataframe thead th {\n        text-align: right;\n    }\n</style>\n<table border=\"1\" class=\"dataframe\">\n  <thead>\n    <tr style=\"text-align: right;\">\n      <th></th>\n      <th>cylinders</th>\n      <th>displacement</th>\n      <th>horsepower</th>\n      <th>weight</th>\n      <th>acceleration</th>\n      <th>model year</th>\n      <th>origin</th>\n      <th>car name</th>\n      <th>car brand</th>\n    </tr>\n  </thead>\n  <tbody>\n    <tr>\n      <th>307</th>\n      <td>6</td>\n      <td>173.0</td>\n      <td>115.0</td>\n      <td>2700</td>\n      <td>12.9</td>\n      <td>79</td>\n      <td>1</td>\n      <td>oldsmobile omega brougham</td>\n      <td>0.365922</td>\n    </tr>\n    <tr>\n      <th>55</th>\n      <td>4</td>\n      <td>97.0</td>\n      <td>60.0</td>\n      <td>1834</td>\n      <td>19.0</td>\n      <td>71</td>\n      <td>2</td>\n      <td>volkswagen model 111</td>\n      <td>0.053073</td>\n    </tr>\n    <tr>\n      <th>76</th>\n      <td>4</td>\n      <td>121.0</td>\n      <td>112.0</td>\n      <td>2933</td>\n      <td>14.5</td>\n      <td>72</td>\n      <td>2</td>\n      <td>volvo 145e (sw)</td>\n      <td>0.365922</td>\n    </tr>\n    <tr>\n      <th>25</th>\n      <td>8</td>\n      <td>360.0</td>\n      <td>215.0</td>\n      <td>4615</td>\n      <td>14.0</td>\n      <td>70</td>\n      <td>1</td>\n      <td>ford f250</td>\n      <td>0.125698</td>\n    </tr>\n    <tr>\n      <th>82</th>\n      <td>4</td>\n      <td>120.0</td>\n      <td>97.0</td>\n      <td>2506</td>\n      <td>14.5</td>\n      <td>72</td>\n      <td>3</td>\n      <td>toyouta corona mark ii (sw)</td>\n      <td>0.067039</td>\n    </tr>\n  </tbody>\n</table>\n</div>"
     },
     "metadata": {},
     "execution_count": 72
    }
   ],
   "source": [
    "pipe = Pipeline([('RareLabel', RareLabelEncoder(tol=0.05, n_categories=4, variables=['car brand'], replace_with='Rare'))\n",
    "                 , ('CountFrequency', CountFrequencyEncoder(encoding_method='frequency', variables=['car brand']))])\n",
    "\n",
    "X_train_encoded = pipe.fit_transform(X_train)\n",
    "\n",
    "X_train_encoded.head()"
   ]
  },
  {
   "source": [
    "### Criação do pipeline\n",
    "\n",
    "Por fim, é importante a criação de um pipeline para agregar todas as transformações necessárias e aplicar sobre o dataset de validação."
   ],
   "cell_type": "markdown",
   "metadata": {}
  },
  {
   "cell_type": "markdown",
   "metadata": {},
   "source": [
    "## Extração para a próxima etapa"
   ]
  },
  {
   "cell_type": "code",
   "execution_count": 76,
   "metadata": {
    "ExecuteTime": {
     "end_time": "2020-12-07T01:28:37.125774Z",
     "start_time": "2020-12-07T01:28:37.064292Z"
    }
   },
   "outputs": [],
   "source": [
    "X_train_encoded.to_parquet(path_interim_data+\"X_train_encoded_step_2.pqt\")\n",
    "X_test_encoded.to_parquet(path_interim_data+\"X_test_encoded_2_output.pqt\")"
   ]
  },
  {
   "cell_type": "code",
   "execution_count": 77,
   "metadata": {
    "ExecuteTime": {
     "end_time": "2020-12-07T01:28:37.141125Z",
     "start_time": "2020-12-07T01:28:37.126771Z"
    }
   },
   "outputs": [],
   "source": [
    "# ls_continuous_features = df_data.select_dtypes(include=[float]).columns\n",
    "# ls_continuous_features\n",
    "\n",
    "# df_data_step_2_output = df_data.copy()\n",
    "# df_data_step_2_output = df_data_step_2_output[ls_continuous_features]\n",
    "\n",
    "# df_data_step_2_output.to_parquet(path_interim_data+\"df_data_step_2_output.pqt\")"
   ]
  }
 ],
 "metadata": {
  "hide_input": false,
  "kernelspec": {
   "name": "python385jvsc74a57bd06a39fe1b9c9e23904e1ca76fa7408dcae853f61ee875e845dc9c1a44bcef4ce6",
   "display_name": "Python 3.8.5 64-bit ('regression_course': pipenv)"
  },
  "language_info": {
   "codemirror_mode": {
    "name": "ipython",
    "version": 3
   },
   "file_extension": ".py",
   "mimetype": "text/x-python",
   "name": "python",
   "nbconvert_exporter": "python",
   "pygments_lexer": "ipython3",
   "version": "3.8.5-final"
  },
  "toc": {
   "base_numbering": 1,
   "nav_menu": {},
   "number_sections": true,
   "sideBar": true,
   "skip_h1_title": false,
   "title_cell": "Table of Contents",
   "title_sidebar": "Contents",
   "toc_cell": false,
   "toc_position": {},
   "toc_section_display": true,
   "toc_window_display": false
  },
  "metadata": {
   "interpreter": {
    "hash": "aa8e4de9f4426ab75fdef01f3d7947e2b3e9cfbdb80ba65115d4f20988c8517e"
   }
  }
 },
 "nbformat": 4,
 "nbformat_minor": 4
}